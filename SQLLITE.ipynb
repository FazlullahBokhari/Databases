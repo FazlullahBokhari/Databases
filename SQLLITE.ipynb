{
 "cells": [
  {
   "cell_type": "code",
   "execution_count": 1,
   "id": "01f94180",
   "metadata": {},
   "outputs": [],
   "source": [
    "import sqlite3"
   ]
  },
  {
   "cell_type": "code",
   "execution_count": 2,
   "id": "58d3e070",
   "metadata": {},
   "outputs": [],
   "source": [
    "db = sqlite3.connect(\"ineuron.db\")"
   ]
  },
  {
   "cell_type": "code",
   "execution_count": 3,
   "id": "b77ec228",
   "metadata": {},
   "outputs": [
    {
     "data": {
      "text/plain": [
       "<sqlite3.Connection at 0x1cee25564e0>"
      ]
     },
     "execution_count": 3,
     "metadata": {},
     "output_type": "execute_result"
    }
   ],
   "source": [
    "db"
   ]
  },
  {
   "cell_type": "code",
   "execution_count": 4,
   "id": "ff2a893b",
   "metadata": {},
   "outputs": [
    {
     "name": "stdout",
     "output_type": "stream",
     "text": [
      " Volume in drive C has no label.\n",
      " Volume Serial Number is BEC0-260A\n",
      "\n",
      " Directory of C:\\Users\\fazlu\\Working_space\\class\\DataBases\n",
      "\n",
      "20-02-2022  10:30    <DIR>          .\n",
      "20-02-2022  10:30    <DIR>          ..\n",
      "20-02-2022  10:18    <DIR>          .ipynb_checkpoints\n",
      "19-02-2022  10:28    <DIR>          19.3 MongoDB\n",
      "19-02-2022  10:21         4,407,102 19.3 MongoDB.7z\n",
      "19-01-2022  10:30            38,777 glass_data\n",
      "19-01-2022  11:17            36,126 glass_data_final\n",
      "20-02-2022  10:30                 0 ineuron.db\n",
      "19-02-2022  10:44            48,903 MongoDB.ipynb\n",
      "17-02-2022  18:06           146,429 MySQL.ipynb\n",
      "20-02-2022  10:29               775 SQLLITE.ipynb\n",
      "               7 File(s)      4,678,112 bytes\n",
      "               4 Dir(s)  393,900,736,512 bytes free\n"
     ]
    }
   ],
   "source": [
    "ls"
   ]
  },
  {
   "cell_type": "code",
   "execution_count": 5,
   "id": "fffba3a7",
   "metadata": {},
   "outputs": [],
   "source": [
    "c = db.cursor()"
   ]
  },
  {
   "cell_type": "code",
   "execution_count": 6,
   "id": "07148398",
   "metadata": {},
   "outputs": [
    {
     "data": {
      "text/plain": [
       "<sqlite3.Cursor at 0x1cee33adf10>"
      ]
     },
     "execution_count": 6,
     "metadata": {},
     "output_type": "execute_result"
    }
   ],
   "source": [
    "c.execute('create table fsds(name text, batchid int, marks real)')"
   ]
  },
  {
   "cell_type": "code",
   "execution_count": 11,
   "id": "4e021c84",
   "metadata": {},
   "outputs": [
    {
     "name": "stdout",
     "output_type": "stream",
     "text": [
      " Volume in drive C has no label.\n",
      " Volume Serial Number is BEC0-260A\n",
      "\n",
      " Directory of C:\\Users\\fazlu\\Working_space\\class\\DataBases\n",
      "\n",
      "20-02-2022  10:40    <DIR>          .\n",
      "20-02-2022  10:40    <DIR>          ..\n",
      "20-02-2022  10:18    <DIR>          .ipynb_checkpoints\n",
      "19-02-2022  10:28    <DIR>          19.3 MongoDB\n",
      "19-02-2022  10:21         4,407,102 19.3 MongoDB.7z\n",
      "19-01-2022  10:30            38,777 glass_data\n",
      "19-01-2022  11:17            36,126 glass_data_final\n",
      "20-02-2022  10:38             8,192 ineuron.db\n",
      "20-02-2022  10:40             4,616 ineuron.db-journal\n",
      "19-02-2022  10:44            48,903 MongoDB.ipynb\n",
      "17-02-2022  18:06           146,429 MySQL.ipynb\n",
      "20-02-2022  10:39             4,271 SQLLITE.ipynb\n",
      "               8 File(s)      4,694,416 bytes\n",
      "               4 Dir(s)  393,899,503,616 bytes free\n"
     ]
    }
   ],
   "source": [
    "ls"
   ]
  },
  {
   "cell_type": "code",
   "execution_count": 12,
   "id": "6a975df9",
   "metadata": {},
   "outputs": [
    {
     "data": {
      "text/plain": [
       "<sqlite3.Cursor at 0x1cee33adf10>"
      ]
     },
     "execution_count": 12,
     "metadata": {},
     "output_type": "execute_result"
    }
   ],
   "source": [
    "c.execute(\"insert into fsds values('sudh',2254,325.25)\")\n",
    "c.execute(\"insert into fsds values('sudh',2254,325.25)\")\n",
    "c.execute(\"insert into fsds values('sudh',2254,325.25)\")\n",
    "c.execute(\"insert into fsds values('sudh',2254,325.25)\")\n",
    "c.execute(\"insert into fsds values('sudh',2254,325.25)\")\n",
    "c.execute(\"insert into fsds values('sudh',2254,325.25)\")"
   ]
  },
  {
   "cell_type": "code",
   "execution_count": 13,
   "id": "0ec2b6a5",
   "metadata": {},
   "outputs": [],
   "source": [
    "data = c.execute(\"select * from fsds\")"
   ]
  },
  {
   "cell_type": "code",
   "execution_count": 14,
   "id": "6a82afa6",
   "metadata": {},
   "outputs": [
    {
     "name": "stdout",
     "output_type": "stream",
     "text": [
      "('sudh', 2254, 325.25)\n",
      "('sudh', 2254, 325.25)\n",
      "('sudh', 2254, 325.25)\n",
      "('sudh', 2254, 325.25)\n",
      "('sudh', 2254, 325.25)\n",
      "('sudh', 2254, 325.25)\n",
      "('sudh', 2254, 325.25)\n",
      "('sudh', 2254, 325.25)\n",
      "('sudh', 2254, 325.25)\n",
      "('sudh', 2254, 325.25)\n",
      "('sudh', 2254, 325.25)\n",
      "('sudh', 2254, 325.25)\n",
      "('sudh', 2254, 325.25)\n"
     ]
    }
   ],
   "source": [
    "for i in data:\n",
    "    print(i)"
   ]
  },
  {
   "cell_type": "code",
   "execution_count": 15,
   "id": "f19c2d24",
   "metadata": {},
   "outputs": [],
   "source": [
    "db.commit()"
   ]
  },
  {
   "cell_type": "code",
   "execution_count": 16,
   "id": "18f2ec61",
   "metadata": {},
   "outputs": [],
   "source": [
    "db.close()"
   ]
  },
  {
   "cell_type": "code",
   "execution_count": 17,
   "id": "14a428df",
   "metadata": {},
   "outputs": [
    {
     "name": "stdout",
     "output_type": "stream",
     "text": [
      " Volume in drive C has no label.\n",
      " Volume Serial Number is BEC0-260A\n",
      "\n",
      " Directory of C:\\Users\\fazlu\\Working_space\\class\\DataBases\n",
      "\n",
      "20-02-2022  10:43    <DIR>          .\n",
      "20-02-2022  10:43    <DIR>          ..\n",
      "20-02-2022  10:18    <DIR>          .ipynb_checkpoints\n",
      "19-02-2022  10:28    <DIR>          19.3 MongoDB\n",
      "19-02-2022  10:21         4,407,102 19.3 MongoDB.7z\n",
      "19-01-2022  10:30            38,777 glass_data\n",
      "19-01-2022  11:17            36,126 glass_data_final\n",
      "20-02-2022  10:43             8,192 ineuron.db\n",
      "19-02-2022  10:44            48,903 MongoDB.ipynb\n",
      "17-02-2022  18:06           146,429 MySQL.ipynb\n",
      "20-02-2022  10:43             6,066 SQLLITE.ipynb\n",
      "               7 File(s)      4,691,595 bytes\n",
      "               4 Dir(s)  393,899,962,368 bytes free\n"
     ]
    }
   ],
   "source": [
    "ls"
   ]
  },
  {
   "cell_type": "code",
   "execution_count": 18,
   "id": "69ce9651",
   "metadata": {},
   "outputs": [],
   "source": [
    "db = sqlite3.connect(\"ineuron.db\")"
   ]
  },
  {
   "cell_type": "code",
   "execution_count": 20,
   "id": "4a23206c",
   "metadata": {},
   "outputs": [],
   "source": [
    "c = db.cursor()"
   ]
  },
  {
   "cell_type": "code",
   "execution_count": 21,
   "id": "3986b6a6",
   "metadata": {},
   "outputs": [],
   "source": [
    "data = c.execute(\"select * from fsds where marks>300\")"
   ]
  },
  {
   "cell_type": "code",
   "execution_count": 22,
   "id": "172f9a46",
   "metadata": {},
   "outputs": [
    {
     "name": "stdout",
     "output_type": "stream",
     "text": [
      "('sudh', 2254, 325.25)\n",
      "('sudh', 2254, 325.25)\n",
      "('sudh', 2254, 325.25)\n",
      "('sudh', 2254, 325.25)\n",
      "('sudh', 2254, 325.25)\n",
      "('sudh', 2254, 325.25)\n",
      "('sudh', 2254, 325.25)\n",
      "('sudh', 2254, 325.25)\n",
      "('sudh', 2254, 325.25)\n",
      "('sudh', 2254, 325.25)\n",
      "('sudh', 2254, 325.25)\n",
      "('sudh', 2254, 325.25)\n",
      "('sudh', 2254, 325.25)\n"
     ]
    }
   ],
   "source": [
    "for i in data:\n",
    "    print(i)"
   ]
  },
  {
   "cell_type": "code",
   "execution_count": 23,
   "id": "40596081",
   "metadata": {},
   "outputs": [],
   "source": [
    "data = c.execute(\"select * from fsds where name='sudh'\")"
   ]
  },
  {
   "cell_type": "code",
   "execution_count": 24,
   "id": "863c85b9",
   "metadata": {},
   "outputs": [
    {
     "name": "stdout",
     "output_type": "stream",
     "text": [
      "('sudh', 2254, 325.25)\n",
      "('sudh', 2254, 325.25)\n",
      "('sudh', 2254, 325.25)\n",
      "('sudh', 2254, 325.25)\n",
      "('sudh', 2254, 325.25)\n",
      "('sudh', 2254, 325.25)\n",
      "('sudh', 2254, 325.25)\n",
      "('sudh', 2254, 325.25)\n",
      "('sudh', 2254, 325.25)\n",
      "('sudh', 2254, 325.25)\n",
      "('sudh', 2254, 325.25)\n",
      "('sudh', 2254, 325.25)\n",
      "('sudh', 2254, 325.25)\n"
     ]
    }
   ],
   "source": [
    "for i in data:\n",
    "    print(i)"
   ]
  },
  {
   "cell_type": "code",
   "execution_count": 25,
   "id": "c9e9fc74",
   "metadata": {},
   "outputs": [],
   "source": [
    "data = c.execute(\"select name,marks from fsds\")"
   ]
  },
  {
   "cell_type": "code",
   "execution_count": 26,
   "id": "b21000a5",
   "metadata": {},
   "outputs": [
    {
     "name": "stdout",
     "output_type": "stream",
     "text": [
      "('sudh', 325.25)\n",
      "('sudh', 325.25)\n",
      "('sudh', 325.25)\n",
      "('sudh', 325.25)\n",
      "('sudh', 325.25)\n",
      "('sudh', 325.25)\n",
      "('sudh', 325.25)\n",
      "('sudh', 325.25)\n",
      "('sudh', 325.25)\n",
      "('sudh', 325.25)\n",
      "('sudh', 325.25)\n",
      "('sudh', 325.25)\n",
      "('sudh', 325.25)\n"
     ]
    }
   ],
   "source": [
    "for i in data:\n",
    "    print(i)"
   ]
  },
  {
   "cell_type": "code",
   "execution_count": 27,
   "id": "fe4b369b",
   "metadata": {},
   "outputs": [],
   "source": [
    "data = c.execute(\"select name,marks from fsds order by marks\")"
   ]
  },
  {
   "cell_type": "code",
   "execution_count": 28,
   "id": "4d41c676",
   "metadata": {},
   "outputs": [
    {
     "name": "stdout",
     "output_type": "stream",
     "text": [
      "('sudh', 325.25)\n",
      "('sudh', 325.25)\n",
      "('sudh', 325.25)\n",
      "('sudh', 325.25)\n",
      "('sudh', 325.25)\n",
      "('sudh', 325.25)\n",
      "('sudh', 325.25)\n",
      "('sudh', 325.25)\n",
      "('sudh', 325.25)\n",
      "('sudh', 325.25)\n",
      "('sudh', 325.25)\n",
      "('sudh', 325.25)\n",
      "('sudh', 325.25)\n"
     ]
    }
   ],
   "source": [
    "for i in data:\n",
    "    print(i)"
   ]
  },
  {
   "cell_type": "code",
   "execution_count": 29,
   "id": "8922be5d",
   "metadata": {},
   "outputs": [],
   "source": [
    "db.close()"
   ]
  },
  {
   "cell_type": "code",
   "execution_count": 30,
   "id": "217df70e",
   "metadata": {},
   "outputs": [],
   "source": [
    "db = sqlite3.connect(\"person.db\")"
   ]
  },
  {
   "cell_type": "code",
   "execution_count": 32,
   "id": "77d41367",
   "metadata": {},
   "outputs": [],
   "source": [
    "c = db.cursor()"
   ]
  },
  {
   "cell_type": "code",
   "execution_count": 33,
   "id": "bf43a65e",
   "metadata": {},
   "outputs": [
    {
     "data": {
      "text/plain": [
       "<sqlite3.Cursor at 0x1cee381e490>"
      ]
     },
     "execution_count": 33,
     "metadata": {},
     "output_type": "execute_result"
    }
   ],
   "source": [
    "c.execute(\"create table person_table(name text, emailid text, age int, salary real) \")"
   ]
  },
  {
   "cell_type": "code",
   "execution_count": 34,
   "id": "22ecf7e4",
   "metadata": {},
   "outputs": [
    {
     "name": "stdout",
     "output_type": "stream",
     "text": [
      " Volume in drive C has no label.\n",
      " Volume Serial Number is BEC0-260A\n",
      "\n",
      " Directory of C:\\Users\\fazlu\\Working_space\\class\\DataBases\n",
      "\n",
      "20-02-2022  10:55    <DIR>          .\n",
      "20-02-2022  10:55    <DIR>          ..\n",
      "20-02-2022  10:18    <DIR>          .ipynb_checkpoints\n",
      "19-02-2022  10:28    <DIR>          19.3 MongoDB\n",
      "19-02-2022  10:21         4,407,102 19.3 MongoDB.7z\n",
      "19-01-2022  10:30            38,777 glass_data\n",
      "19-01-2022  11:17            36,126 glass_data_final\n",
      "20-02-2022  10:43             8,192 ineuron.db\n",
      "19-02-2022  10:44            48,903 MongoDB.ipynb\n",
      "17-02-2022  18:06           146,429 MySQL.ipynb\n",
      "20-02-2022  10:55             8,192 person.db\n",
      "20-02-2022  10:53            11,430 SQLLITE.ipynb\n",
      "               8 File(s)      4,705,151 bytes\n",
      "               4 Dir(s)  393,885,597,696 bytes free\n"
     ]
    }
   ],
   "source": [
    "ls"
   ]
  },
  {
   "cell_type": "code",
   "execution_count": 35,
   "id": "e978be45",
   "metadata": {},
   "outputs": [
    {
     "data": {
      "text/plain": [
       "<sqlite3.Cursor at 0x1cee381e490>"
      ]
     },
     "execution_count": 35,
     "metadata": {},
     "output_type": "execute_result"
    }
   ],
   "source": [
    "c.execute(\"insert into person_table values ('faiz','fazlullahb@gmail.com',214,54886)\")\n",
    "c.execute(\"insert into person_table values('sudh','sudh@gmail.com',215,548860)\")\n",
    "c.execute(\"insert into person_table values ('krish','krish@gmail.com',216,548806)\")\n",
    "c.execute(\"insert into person_table values('reyaz','reyaz@gmail.com',217,5486)\")\n",
    "c.execute(\"insert into person_table values ('faiz','fazlullahb@gmail.com',214,54886)\")\n",
    "c.execute(\"insert into person_table values ('faiz','fazlullahb@gmail.com',214,54886)\")\n",
    "c.execute(\"insert into person_table values('faiz','fazlullahb@gmail.com',214,54886)\")\n",
    "c.execute(\"insert into person_table values('faiz','fazlullahb@gmail.com',214,54886)\")"
   ]
  },
  {
   "cell_type": "code",
   "execution_count": 38,
   "id": "1ba541c9",
   "metadata": {},
   "outputs": [],
   "source": [
    "data = c.execute(\"select * from person_table\")"
   ]
  },
  {
   "cell_type": "code",
   "execution_count": 39,
   "id": "12498c8d",
   "metadata": {},
   "outputs": [
    {
     "name": "stdout",
     "output_type": "stream",
     "text": [
      "('faiz', 'fazlullahb@gmail.com', 214, 54886.0)\n",
      "('sudh', 'sudh@gmail.com', 215, 548860.0)\n",
      "('krish', 'krish@gmail.com', 216, 548806.0)\n",
      "('reyaz', 'reyaz@gmail.com', 217, 5486.0)\n",
      "('faiz', 'fazlullahb@gmail.com', 214, 54886.0)\n",
      "('faiz', 'fazlullahb@gmail.com', 214, 54886.0)\n",
      "('faiz', 'fazlullahb@gmail.com', 214, 54886.0)\n",
      "('faiz', 'fazlullahb@gmail.com', 214, 54886.0)\n"
     ]
    }
   ],
   "source": [
    "for i in data:\n",
    "    print(i)"
   ]
  },
  {
   "cell_type": "code",
   "execution_count": 41,
   "id": "f0b9fbd9",
   "metadata": {},
   "outputs": [],
   "source": [
    "db.commit()"
   ]
  },
  {
   "cell_type": "code",
   "execution_count": 42,
   "id": "08e9ad27",
   "metadata": {},
   "outputs": [],
   "source": [
    "db.close()"
   ]
  },
  {
   "cell_type": "code",
   "execution_count": 43,
   "id": "7c98a9c7",
   "metadata": {},
   "outputs": [
    {
     "name": "stdout",
     "output_type": "stream",
     "text": [
      " Volume in drive C has no label.\n",
      " Volume Serial Number is BEC0-260A\n",
      "\n",
      " Directory of C:\\Users\\fazlu\\Working_space\\class\\DataBases\n",
      "\n",
      "20-02-2022  11:00    <DIR>          .\n",
      "20-02-2022  11:00    <DIR>          ..\n",
      "20-02-2022  10:18    <DIR>          .ipynb_checkpoints\n",
      "19-02-2022  10:28    <DIR>          19.3 MongoDB\n",
      "19-02-2022  10:21         4,407,102 19.3 MongoDB.7z\n",
      "19-01-2022  10:30            38,777 glass_data\n",
      "19-01-2022  11:17            36,126 glass_data_final\n",
      "20-02-2022  10:43             8,192 ineuron.db\n",
      "19-02-2022  10:44            48,903 MongoDB.ipynb\n",
      "17-02-2022  18:06           146,429 MySQL.ipynb\n",
      "20-02-2022  11:00             8,192 person.db\n",
      "20-02-2022  10:59            16,694 SQLLITE.ipynb\n",
      "               8 File(s)      4,710,415 bytes\n",
      "               4 Dir(s)  393,893,015,552 bytes free\n"
     ]
    }
   ],
   "source": [
    "ls"
   ]
  },
  {
   "cell_type": "code",
   "execution_count": 44,
   "id": "ee3323da",
   "metadata": {},
   "outputs": [],
   "source": [
    "db = sqlite3.connect('ineuron.db')"
   ]
  },
  {
   "cell_type": "code",
   "execution_count": 46,
   "id": "15c513bb",
   "metadata": {},
   "outputs": [],
   "source": [
    "c = db.cursor()"
   ]
  },
  {
   "cell_type": "code",
   "execution_count": 47,
   "id": "cb81841a",
   "metadata": {},
   "outputs": [
    {
     "data": {
      "text/plain": [
       "<sqlite3.Cursor at 0x1cee3770810>"
      ]
     },
     "execution_count": 47,
     "metadata": {},
     "output_type": "execute_result"
    }
   ],
   "source": [
    "c.execute('drop table fsds')"
   ]
  },
  {
   "cell_type": "code",
   "execution_count": 49,
   "id": "dc60f2e3",
   "metadata": {},
   "outputs": [
    {
     "ename": "OperationalError",
     "evalue": "no such table: fsds",
     "output_type": "error",
     "traceback": [
      "\u001b[1;31m---------------------------------------------------------------------------\u001b[0m",
      "\u001b[1;31mOperationalError\u001b[0m                          Traceback (most recent call last)",
      "\u001b[1;32m<ipython-input-49-b75bf689a57c>\u001b[0m in \u001b[0;36m<module>\u001b[1;34m\u001b[0m\n\u001b[1;32m----> 1\u001b[1;33m \u001b[0mc\u001b[0m\u001b[1;33m.\u001b[0m\u001b[0mexecute\u001b[0m\u001b[1;33m(\u001b[0m\u001b[1;34m'select * from fsds'\u001b[0m\u001b[1;33m)\u001b[0m\u001b[1;33m\u001b[0m\u001b[1;33m\u001b[0m\u001b[0m\n\u001b[0m",
      "\u001b[1;31mOperationalError\u001b[0m: no such table: fsds"
     ]
    }
   ],
   "source": [
    "c.execute('select * from fsds')"
   ]
  },
  {
   "cell_type": "code",
   "execution_count": 48,
   "id": "e11f9149",
   "metadata": {},
   "outputs": [
    {
     "name": "stdout",
     "output_type": "stream",
     "text": [
      " Volume in drive C has no label.\n",
      " Volume Serial Number is BEC0-260A\n",
      "\n",
      " Directory of C:\\Users\\fazlu\\Working_space\\class\\DataBases\n",
      "\n",
      "20-02-2022  11:03    <DIR>          .\n",
      "20-02-2022  11:03    <DIR>          ..\n",
      "20-02-2022  10:18    <DIR>          .ipynb_checkpoints\n",
      "19-02-2022  10:28    <DIR>          19.3 MongoDB\n",
      "19-02-2022  10:21         4,407,102 19.3 MongoDB.7z\n",
      "19-01-2022  10:30            38,777 glass_data\n",
      "19-01-2022  11:17            36,126 glass_data_final\n",
      "20-02-2022  11:03             8,192 ineuron.db\n",
      "19-02-2022  10:44            48,903 MongoDB.ipynb\n",
      "17-02-2022  18:06           146,429 MySQL.ipynb\n",
      "20-02-2022  11:00             8,192 person.db\n",
      "20-02-2022  11:03            17,722 SQLLITE.ipynb\n",
      "               8 File(s)      4,711,443 bytes\n",
      "               4 Dir(s)  393,890,197,504 bytes free\n"
     ]
    }
   ],
   "source": [
    "ls"
   ]
  },
  {
   "cell_type": "code",
   "execution_count": 50,
   "id": "6ea0cc2d",
   "metadata": {},
   "outputs": [],
   "source": [
    "db.close()"
   ]
  },
  {
   "cell_type": "code",
   "execution_count": 51,
   "id": "35be7efa",
   "metadata": {},
   "outputs": [],
   "source": [
    "db = sqlite3.connect('person.db')"
   ]
  },
  {
   "cell_type": "code",
   "execution_count": 52,
   "id": "10505a80",
   "metadata": {},
   "outputs": [],
   "source": [
    "c = db.cursor()"
   ]
  },
  {
   "cell_type": "code",
   "execution_count": 55,
   "id": "5a8e6909",
   "metadata": {},
   "outputs": [],
   "source": [
    "data = c.execute('select * from person_table limit 4')"
   ]
  },
  {
   "cell_type": "code",
   "execution_count": 56,
   "id": "ba98195b",
   "metadata": {},
   "outputs": [
    {
     "name": "stdout",
     "output_type": "stream",
     "text": [
      "('faiz', 'fazlullahb@gmail.com', 214, 54886.0)\n",
      "('sudh', 'sudh@gmail.com', 215, 548860.0)\n",
      "('krish', 'krish@gmail.com', 216, 548806.0)\n",
      "('reyaz', 'reyaz@gmail.com', 217, 5486.0)\n"
     ]
    }
   ],
   "source": [
    "for i in data:\n",
    "    print(i)"
   ]
  },
  {
   "cell_type": "code",
   "execution_count": 57,
   "id": "cff2da64",
   "metadata": {},
   "outputs": [],
   "source": [
    "db = sqlite3.connect('jobdb.db')"
   ]
  },
  {
   "cell_type": "code",
   "execution_count": 58,
   "id": "cb0abf82",
   "metadata": {},
   "outputs": [],
   "source": [
    "c = db.cursor()"
   ]
  },
  {
   "cell_type": "code",
   "execution_count": 59,
   "id": "62cc1199",
   "metadata": {},
   "outputs": [
    {
     "data": {
      "text/plain": [
       "<sqlite3.Cursor at 0x1cee371f7a0>"
      ]
     },
     "execution_count": 59,
     "metadata": {},
     "output_type": "execute_result"
    }
   ],
   "source": [
    "c.execute(\"create table student (student_id int, student_name text, student_mailid text, marks int)\")"
   ]
  },
  {
   "cell_type": "code",
   "execution_count": 60,
   "id": "4d5cda46",
   "metadata": {},
   "outputs": [
    {
     "data": {
      "text/plain": [
       "<sqlite3.Cursor at 0x1cee371f7a0>"
      ]
     },
     "execution_count": 60,
     "metadata": {},
     "output_type": "execute_result"
    }
   ],
   "source": [
    "c.execute(\"create table address (student_id int,pincode int,location text,nearby text, phone_no int)\")"
   ]
  },
  {
   "cell_type": "code",
   "execution_count": 62,
   "id": "0f848ca6",
   "metadata": {},
   "outputs": [
    {
     "data": {
      "text/plain": [
       "<sqlite3.Cursor at 0x1cee371f7a0>"
      ]
     },
     "execution_count": 62,
     "metadata": {},
     "output_type": "execute_result"
    }
   ],
   "source": [
    "c.execute(\"insert into student values (235, 'sudhanshu','sudhanshu@gmail.ai',234)\")\n",
    "c.execute(\"insert into student values (236, 'sudhanshu','sudhanshu@gmail.ai',234)\")\n",
    "c.execute(\"insert into student values (237, 'sudhanshu','sudhanshu@gmail.ai',234)\")\n",
    "c.execute(\"insert into student values (238, 'sudhanshu','sudhanshu@gmail.ai',234)\")\n",
    "c.execute(\"insert into student values (239, 'sudhanshu','sudhanshu@gmail.ai',234)\")\n",
    "c.execute(\"insert into student values (240, 'sudhanshu','sudhanshu@gmail.ai',234)\")\n",
    "c.execute(\"insert into student values (241, 'sudhanshu','sudhanshu@gmail.ai',234)\")\n",
    "c.execute(\"insert into student values (242, 'sudhanshu','sudhanshu@gmail.ai',234)\")\n",
    "c.execute(\"insert into student values (243, 'sudhanshu','sudhanshu@gmail.ai',234)\")\n",
    "c.execute(\"insert into student values (244, 'sudhanshu','sudhanshu@gmail.ai',234)\")\n",
    "c.execute(\"insert into student values (245, 'sudhanshu','sudhanshu@gmail.ai',234)\")"
   ]
  },
  {
   "cell_type": "code",
   "execution_count": 64,
   "id": "e336dc9b",
   "metadata": {},
   "outputs": [
    {
     "data": {
      "text/plain": [
       "<sqlite3.Cursor at 0x1cee371f7a0>"
      ]
     },
     "execution_count": 64,
     "metadata": {},
     "output_type": "execute_result"
    }
   ],
   "source": [
    "c.execute(\"insert into address values (234, 560034, 'whitefeild','ineuron office',23415485574758)\")\n",
    "c.execute(\"insert into address values (235, 560034, 'whitefeild','ineuron office',23415485574758)\")\n",
    "c.execute(\"insert into address values (236, 560034, 'whitefeild','ineuron office',23415485574758)\")\n",
    "c.execute(\"insert into address values (237, 560034, 'whitefeild','ineuron office',23415485574758)\")\n",
    "c.execute(\"insert into address values (238, 560034, 'whitefeild','ineuron office',23415485574758)\")\n",
    "c.execute(\"insert into address values (239, 560034, 'whitefeild','ineuron office',23415485574758)\")\n",
    "c.execute(\"insert into address values (240, 560034, 'whitefeild','ineuron office',23415485574758)\")\n",
    "c.execute(\"insert into address values (241, 560034, 'whitefeild','ineuron office',23415485574758)\")\n",
    "c.execute(\"insert into address values (242, 560034, 'whitefeild','ineuron office',23415485574758)\")\n",
    "c.execute(\"insert into address values (243, 560034, 'whitefeild','ineuron office',23415485574758)\")\n",
    "c.execute(\"insert into address values (244, 560034, 'whitefeild','ineuron office',23415485574758)\")\n",
    "c.execute(\"insert into address values (245, 560034, 'whitefeild','ineuron office',23415485574758)\")\n",
    "\n",
    "c.execute(\"insert into address values (234456, 560034, 'whitefeild','ineuron office',23415485574758)\")\n",
    "c.execute(\"insert into address values (2345363, 560034, 'whitefeild','ineuron office',23415485574758)\")\n"
   ]
  },
  {
   "cell_type": "code",
   "execution_count": 65,
   "id": "bd9c5118",
   "metadata": {},
   "outputs": [
    {
     "name": "stdout",
     "output_type": "stream",
     "text": [
      "(234, 'sudhanshu', 'sudhanshu@gmail.ai', 234)\n",
      "(235, 'sudhanshu', 'sudhanshu@gmail.ai', 234)\n",
      "(236, 'sudhanshu', 'sudhanshu@gmail.ai', 234)\n",
      "(237, 'sudhanshu', 'sudhanshu@gmail.ai', 234)\n",
      "(238, 'sudhanshu', 'sudhanshu@gmail.ai', 234)\n",
      "(239, 'sudhanshu', 'sudhanshu@gmail.ai', 234)\n",
      "(240, 'sudhanshu', 'sudhanshu@gmail.ai', 234)\n",
      "(241, 'sudhanshu', 'sudhanshu@gmail.ai', 234)\n",
      "(242, 'sudhanshu', 'sudhanshu@gmail.ai', 234)\n",
      "(243, 'sudhanshu', 'sudhanshu@gmail.ai', 234)\n",
      "(244, 'sudhanshu', 'sudhanshu@gmail.ai', 234)\n",
      "(245, 'sudhanshu', 'sudhanshu@gmail.ai', 234)\n"
     ]
    }
   ],
   "source": [
    "for i in c.execute(\"select * from student\"):\n",
    "    print(i)"
   ]
  },
  {
   "cell_type": "code",
   "execution_count": 70,
   "id": "2f7b9dc2",
   "metadata": {},
   "outputs": [],
   "source": [
    "data = c.execute(\"select * from student s left join address a on s.student_id=a.student_id where a.student_id is not null\")"
   ]
  },
  {
   "cell_type": "code",
   "execution_count": 71,
   "id": "ad2218c5",
   "metadata": {},
   "outputs": [
    {
     "name": "stdout",
     "output_type": "stream",
     "text": [
      "(234, 'sudhanshu', 'sudhanshu@gmail.ai', 234, 234, 560034, 'whitefeild', 'ineuron office', 23415485574758)\n",
      "(235, 'sudhanshu', 'sudhanshu@gmail.ai', 234, 235, 560034, 'whitefeild', 'ineuron office', 23415485574758)\n",
      "(236, 'sudhanshu', 'sudhanshu@gmail.ai', 234, 236, 560034, 'whitefeild', 'ineuron office', 23415485574758)\n",
      "(237, 'sudhanshu', 'sudhanshu@gmail.ai', 234, 237, 560034, 'whitefeild', 'ineuron office', 23415485574758)\n",
      "(238, 'sudhanshu', 'sudhanshu@gmail.ai', 234, 238, 560034, 'whitefeild', 'ineuron office', 23415485574758)\n",
      "(239, 'sudhanshu', 'sudhanshu@gmail.ai', 234, 239, 560034, 'whitefeild', 'ineuron office', 23415485574758)\n",
      "(240, 'sudhanshu', 'sudhanshu@gmail.ai', 234, 240, 560034, 'whitefeild', 'ineuron office', 23415485574758)\n",
      "(241, 'sudhanshu', 'sudhanshu@gmail.ai', 234, 241, 560034, 'whitefeild', 'ineuron office', 23415485574758)\n",
      "(242, 'sudhanshu', 'sudhanshu@gmail.ai', 234, 242, 560034, 'whitefeild', 'ineuron office', 23415485574758)\n",
      "(243, 'sudhanshu', 'sudhanshu@gmail.ai', 234, 243, 560034, 'whitefeild', 'ineuron office', 23415485574758)\n",
      "(244, 'sudhanshu', 'sudhanshu@gmail.ai', 234, 244, 560034, 'whitefeild', 'ineuron office', 23415485574758)\n",
      "(245, 'sudhanshu', 'sudhanshu@gmail.ai', 234, 245, 560034, 'whitefeild', 'ineuron office', 23415485574758)\n",
      "(234, 'sudhanshu', 'sudhanshu@gmail.ai', 234, 234, 560034, 'whitefeild', 'ineuron office', 23415485574758)\n",
      "(235, 'sudhanshu', 'sudhanshu@gmail.ai', 234, 235, 560034, 'whitefeild', 'ineuron office', 23415485574758)\n",
      "(236, 'sudhanshu', 'sudhanshu@gmail.ai', 234, 236, 560034, 'whitefeild', 'ineuron office', 23415485574758)\n",
      "(237, 'sudhanshu', 'sudhanshu@gmail.ai', 234, 237, 560034, 'whitefeild', 'ineuron office', 23415485574758)\n",
      "(238, 'sudhanshu', 'sudhanshu@gmail.ai', 234, 238, 560034, 'whitefeild', 'ineuron office', 23415485574758)\n",
      "(239, 'sudhanshu', 'sudhanshu@gmail.ai', 234, 239, 560034, 'whitefeild', 'ineuron office', 23415485574758)\n",
      "(240, 'sudhanshu', 'sudhanshu@gmail.ai', 234, 240, 560034, 'whitefeild', 'ineuron office', 23415485574758)\n",
      "(241, 'sudhanshu', 'sudhanshu@gmail.ai', 234, 241, 560034, 'whitefeild', 'ineuron office', 23415485574758)\n",
      "(242, 'sudhanshu', 'sudhanshu@gmail.ai', 234, 242, 560034, 'whitefeild', 'ineuron office', 23415485574758)\n",
      "(243, 'sudhanshu', 'sudhanshu@gmail.ai', 234, 243, 560034, 'whitefeild', 'ineuron office', 23415485574758)\n",
      "(244, 'sudhanshu', 'sudhanshu@gmail.ai', 234, 244, 560034, 'whitefeild', 'ineuron office', 23415485574758)\n",
      "(245, 'sudhanshu', 'sudhanshu@gmail.ai', 234, 245, 560034, 'whitefeild', 'ineuron office', 23415485574758)\n"
     ]
    }
   ],
   "source": [
    "for i in data:\n",
    "    print(i)"
   ]
  },
  {
   "cell_type": "code",
   "execution_count": 72,
   "id": "7a2e2596",
   "metadata": {},
   "outputs": [
    {
     "ename": "OperationalError",
     "evalue": "RIGHT and FULL OUTER JOINs are not currently supported",
     "output_type": "error",
     "traceback": [
      "\u001b[1;31m---------------------------------------------------------------------------\u001b[0m",
      "\u001b[1;31mOperationalError\u001b[0m                          Traceback (most recent call last)",
      "\u001b[1;32m<ipython-input-72-7007e6f50e9e>\u001b[0m in \u001b[0;36m<module>\u001b[1;34m\u001b[0m\n\u001b[1;32m----> 1\u001b[1;33m \u001b[0mdata\u001b[0m \u001b[1;33m=\u001b[0m \u001b[0mc\u001b[0m\u001b[1;33m.\u001b[0m\u001b[0mexecute\u001b[0m\u001b[1;33m(\u001b[0m\u001b[1;34m\"select * from student s right join address a on s.student_id=a.student_id where a.student_id is not null\"\u001b[0m\u001b[1;33m)\u001b[0m\u001b[1;33m\u001b[0m\u001b[1;33m\u001b[0m\u001b[0m\n\u001b[0m",
      "\u001b[1;31mOperationalError\u001b[0m: RIGHT and FULL OUTER JOINs are not currently supported"
     ]
    }
   ],
   "source": [
    "data = c.execute(\"select * from student s right join address a on s.student_id=a.student_id where a.student_id is not null\")"
   ]
  },
  {
   "cell_type": "code",
   "execution_count": 73,
   "id": "83a26e2a",
   "metadata": {},
   "outputs": [],
   "source": [
    "data = c.execute(\"select * from address a left join student s on s.student_id=a.student_id where a.student_id is not null\")"
   ]
  },
  {
   "cell_type": "code",
   "execution_count": 74,
   "id": "fb20bd2d",
   "metadata": {},
   "outputs": [
    {
     "name": "stdout",
     "output_type": "stream",
     "text": [
      "(234, 560034, 'whitefeild', 'ineuron office', 23415485574758, 234, 'sudhanshu', 'sudhanshu@gmail.ai', 234)\n",
      "(235, 560034, 'whitefeild', 'ineuron office', 23415485574758, 235, 'sudhanshu', 'sudhanshu@gmail.ai', 234)\n",
      "(236, 560034, 'whitefeild', 'ineuron office', 23415485574758, 236, 'sudhanshu', 'sudhanshu@gmail.ai', 234)\n",
      "(237, 560034, 'whitefeild', 'ineuron office', 23415485574758, 237, 'sudhanshu', 'sudhanshu@gmail.ai', 234)\n",
      "(238, 560034, 'whitefeild', 'ineuron office', 23415485574758, 238, 'sudhanshu', 'sudhanshu@gmail.ai', 234)\n",
      "(239, 560034, 'whitefeild', 'ineuron office', 23415485574758, 239, 'sudhanshu', 'sudhanshu@gmail.ai', 234)\n",
      "(240, 560034, 'whitefeild', 'ineuron office', 23415485574758, 240, 'sudhanshu', 'sudhanshu@gmail.ai', 234)\n",
      "(241, 560034, 'whitefeild', 'ineuron office', 23415485574758, 241, 'sudhanshu', 'sudhanshu@gmail.ai', 234)\n",
      "(242, 560034, 'whitefeild', 'ineuron office', 23415485574758, 242, 'sudhanshu', 'sudhanshu@gmail.ai', 234)\n",
      "(243, 560034, 'whitefeild', 'ineuron office', 23415485574758, 243, 'sudhanshu', 'sudhanshu@gmail.ai', 234)\n",
      "(244, 560034, 'whitefeild', 'ineuron office', 23415485574758, 244, 'sudhanshu', 'sudhanshu@gmail.ai', 234)\n",
      "(245, 560034, 'whitefeild', 'ineuron office', 23415485574758, 245, 'sudhanshu', 'sudhanshu@gmail.ai', 234)\n",
      "(234456, 560034, 'whitefeild', 'ineuron office', 23415485574758, None, None, None, None)\n",
      "(2345363, 560034, 'whitefeild', 'ineuron office', 23415485574758, None, None, None, None)\n",
      "(234, 560034, 'whitefeild', 'ineuron office', 23415485574758, 234, 'sudhanshu', 'sudhanshu@gmail.ai', 234)\n",
      "(235, 560034, 'whitefeild', 'ineuron office', 23415485574758, 235, 'sudhanshu', 'sudhanshu@gmail.ai', 234)\n",
      "(236, 560034, 'whitefeild', 'ineuron office', 23415485574758, 236, 'sudhanshu', 'sudhanshu@gmail.ai', 234)\n",
      "(237, 560034, 'whitefeild', 'ineuron office', 23415485574758, 237, 'sudhanshu', 'sudhanshu@gmail.ai', 234)\n",
      "(238, 560034, 'whitefeild', 'ineuron office', 23415485574758, 238, 'sudhanshu', 'sudhanshu@gmail.ai', 234)\n",
      "(239, 560034, 'whitefeild', 'ineuron office', 23415485574758, 239, 'sudhanshu', 'sudhanshu@gmail.ai', 234)\n",
      "(240, 560034, 'whitefeild', 'ineuron office', 23415485574758, 240, 'sudhanshu', 'sudhanshu@gmail.ai', 234)\n",
      "(241, 560034, 'whitefeild', 'ineuron office', 23415485574758, 241, 'sudhanshu', 'sudhanshu@gmail.ai', 234)\n",
      "(242, 560034, 'whitefeild', 'ineuron office', 23415485574758, 242, 'sudhanshu', 'sudhanshu@gmail.ai', 234)\n",
      "(243, 560034, 'whitefeild', 'ineuron office', 23415485574758, 243, 'sudhanshu', 'sudhanshu@gmail.ai', 234)\n",
      "(244, 560034, 'whitefeild', 'ineuron office', 23415485574758, 244, 'sudhanshu', 'sudhanshu@gmail.ai', 234)\n",
      "(245, 560034, 'whitefeild', 'ineuron office', 23415485574758, 245, 'sudhanshu', 'sudhanshu@gmail.ai', 234)\n",
      "(234456, 560034, 'whitefeild', 'ineuron office', 23415485574758, None, None, None, None)\n",
      "(2345363, 560034, 'whitefeild', 'ineuron office', 23415485574758, None, None, None, None)\n"
     ]
    }
   ],
   "source": [
    "for i in data:\n",
    "    print(i)"
   ]
  },
  {
   "cell_type": "code",
   "execution_count": 77,
   "id": "9872d793",
   "metadata": {},
   "outputs": [
    {
     "name": "stdout",
     "output_type": "stream",
     "text": [
      "(234, 'sudhanshu', 'sudhanshu@gmail.ai', 234)\n",
      "(235, 'sudhanshu', 'sudhanshu@gmail.ai', 234)\n",
      "(236, 'sudhanshu', 'sudhanshu@gmail.ai', 234)\n",
      "(237, 'sudhanshu', 'sudhanshu@gmail.ai', 234)\n",
      "(238, 'sudhanshu', 'sudhanshu@gmail.ai', 234)\n",
      "(239, 'sudhanshu', 'sudhanshu@gmail.ai', 234)\n",
      "(240, 'sudhanshu', 'sudhanshu@gmail.ai', 234)\n",
      "(241, 'sudhanshu', 'sudhanshu@gmail.ai', 234)\n",
      "(242, 'sudhanshu', 'sudhanshu@gmail.ai', 234)\n",
      "(243, 'sudhanshu', 'sudhanshu@gmail.ai', 234)\n",
      "(244, 'sudhanshu', 'sudhanshu@gmail.ai', 234)\n",
      "(245, 'sudhanshu', 'sudhanshu@gmail.ai', 234)\n"
     ]
    }
   ],
   "source": [
    "for i in c.execute(\"select * from student where student_id>200\"):\n",
    "    print(i)"
   ]
  },
  {
   "cell_type": "code",
   "execution_count": 78,
   "id": "555a8b91",
   "metadata": {},
   "outputs": [
    {
     "data": {
      "text/plain": [
       "<sqlite3.Cursor at 0x1cee371f7a0>"
      ]
     },
     "execution_count": 78,
     "metadata": {},
     "output_type": "execute_result"
    }
   ],
   "source": [
    "c.execute(\"delete from student where student_id>2000\")"
   ]
  },
  {
   "cell_type": "code",
   "execution_count": 80,
   "id": "1e8e8958",
   "metadata": {},
   "outputs": [],
   "source": [
    "data = c.execute(\"select * from student\")"
   ]
  },
  {
   "cell_type": "code",
   "execution_count": 81,
   "id": "18137530",
   "metadata": {},
   "outputs": [
    {
     "data": {
      "text/plain": [
       "[(234, 'sudhanshu', 'sudhanshu@gmail.ai', 234),\n",
       " (235, 'sudhanshu', 'sudhanshu@gmail.ai', 234),\n",
       " (236, 'sudhanshu', 'sudhanshu@gmail.ai', 234),\n",
       " (237, 'sudhanshu', 'sudhanshu@gmail.ai', 234),\n",
       " (238, 'sudhanshu', 'sudhanshu@gmail.ai', 234),\n",
       " (239, 'sudhanshu', 'sudhanshu@gmail.ai', 234),\n",
       " (240, 'sudhanshu', 'sudhanshu@gmail.ai', 234),\n",
       " (241, 'sudhanshu', 'sudhanshu@gmail.ai', 234),\n",
       " (242, 'sudhanshu', 'sudhanshu@gmail.ai', 234),\n",
       " (243, 'sudhanshu', 'sudhanshu@gmail.ai', 234),\n",
       " (244, 'sudhanshu', 'sudhanshu@gmail.ai', 234),\n",
       " (245, 'sudhanshu', 'sudhanshu@gmail.ai', 234)]"
      ]
     },
     "execution_count": 81,
     "metadata": {},
     "output_type": "execute_result"
    }
   ],
   "source": [
    "data.fetchall()"
   ]
  },
  {
   "cell_type": "code",
   "execution_count": 82,
   "id": "f66f5aaf",
   "metadata": {},
   "outputs": [
    {
     "data": {
      "text/plain": [
       "<sqlite3.Cursor at 0x1cee371f7a0>"
      ]
     },
     "execution_count": 82,
     "metadata": {},
     "output_type": "execute_result"
    }
   ],
   "source": [
    "c.execute('update student set student_id = 1000 where student_id = 236')"
   ]
  },
  {
   "cell_type": "code",
   "execution_count": 83,
   "id": "4dda2888",
   "metadata": {},
   "outputs": [
    {
     "data": {
      "text/plain": [
       "[(234, 'sudhanshu', 'sudhanshu@gmail.ai', 234),\n",
       " (235, 'sudhanshu', 'sudhanshu@gmail.ai', 234),\n",
       " (1000, 'sudhanshu', 'sudhanshu@gmail.ai', 234),\n",
       " (237, 'sudhanshu', 'sudhanshu@gmail.ai', 234),\n",
       " (238, 'sudhanshu', 'sudhanshu@gmail.ai', 234),\n",
       " (239, 'sudhanshu', 'sudhanshu@gmail.ai', 234),\n",
       " (240, 'sudhanshu', 'sudhanshu@gmail.ai', 234),\n",
       " (241, 'sudhanshu', 'sudhanshu@gmail.ai', 234),\n",
       " (242, 'sudhanshu', 'sudhanshu@gmail.ai', 234),\n",
       " (243, 'sudhanshu', 'sudhanshu@gmail.ai', 234),\n",
       " (244, 'sudhanshu', 'sudhanshu@gmail.ai', 234),\n",
       " (245, 'sudhanshu', 'sudhanshu@gmail.ai', 234)]"
      ]
     },
     "execution_count": 83,
     "metadata": {},
     "output_type": "execute_result"
    }
   ],
   "source": [
    "data = c.execute(\"select * from student\")\n",
    "data.fetchall()"
   ]
  },
  {
   "cell_type": "code",
   "execution_count": null,
   "id": "01a5950c",
   "metadata": {},
   "outputs": [],
   "source": []
  }
 ],
 "metadata": {
  "kernelspec": {
   "display_name": "Python 3",
   "language": "python",
   "name": "python3"
  },
  "language_info": {
   "codemirror_mode": {
    "name": "ipython",
    "version": 3
   },
   "file_extension": ".py",
   "mimetype": "text/x-python",
   "name": "python",
   "nbconvert_exporter": "python",
   "pygments_lexer": "ipython3",
   "version": "3.8.8"
  }
 },
 "nbformat": 4,
 "nbformat_minor": 5
}
